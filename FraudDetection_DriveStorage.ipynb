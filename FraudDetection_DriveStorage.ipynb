{
  "nbformat": 4,
  "nbformat_minor": 0,
  "metadata": {
    "colab": {
      "name": "FraudDetection_DriveStorage.ipynb",
      "provenance": [],
      "collapsed_sections": []
    },
    "kernelspec": {
      "name": "python3",
      "display_name": "Python 3"
    },
    "accelerator": "GPU"
  },
  "cells": [
    {
      "cell_type": "code",
      "metadata": {
        "id": "1P57RYUxKGyx",
        "colab_type": "code",
        "colab": {
          "base_uri": "https://localhost:8080/",
          "height": 72
        },
        "outputId": "2d18c5ad-522f-43d4-b6c8-093d5861b13b"
      },
      "source": [
        "\n",
        "import pandas as pd\n",
        "import numpy as np\n",
        "from sklearn.model_selection import StratifiedShuffleSplit\n",
        "from sklearn.linear_model import LogisticRegression\n",
        "from sklearn.metrics import classification_report\n",
        "from sklearn.decomposition import PCA\n",
        "from sklearn.preprocessing import StandardScaler\n",
        "from sklearn.linear_model import LogisticRegression\n",
        "from sklearn.externals import joblib\n",
        "from sklearn.preprocessing import LabelEncoder\n",
        "from sklearn.metrics import mean_squared_error, r2_score\n",
        "import math\n",
        "from copy import deepcopy\n",
        "from datetime import datetime\n",
        "import seaborn as sns\n",
        "import scipy.stats as stats\n",
        "import matplotlib.pyplot as plt"
      ],
      "execution_count": 4,
      "outputs": [
        {
          "output_type": "stream",
          "text": [
            "/usr/local/lib/python3.6/dist-packages/sklearn/externals/joblib/__init__.py:15: DeprecationWarning: sklearn.externals.joblib is deprecated in 0.21 and will be removed in 0.23. Please import this functionality directly from joblib, which can be installed with: pip install joblib. If this warning is raised when loading pickled models, you may need to re-serialize those models with scikit-learn 0.21+.\n",
            "  warnings.warn(msg, category=DeprecationWarning)\n"
          ],
          "name": "stderr"
        }
      ]
    },
    {
      "cell_type": "code",
      "metadata": {
        "id": "_JPWNNUENAYc",
        "colab_type": "code",
        "colab": {
          "base_uri": "https://localhost:8080/",
          "height": 34
        },
        "outputId": "1536e507-c447-4f7d-eec8-9b37c4a5395a"
      },
      "source": [
        "from google.colab import drive\n",
        "drive.mount('/content/drive')"
      ],
      "execution_count": 9,
      "outputs": [
        {
          "output_type": "stream",
          "text": [
            "Drive already mounted at /content/drive; to attempt to forcibly remount, call drive.mount(\"/content/drive\", force_remount=True).\n"
          ],
          "name": "stdout"
        }
      ]
    },
    {
      "cell_type": "code",
      "metadata": {
        "id": "X3KXooYQKH-w",
        "colab_type": "code",
        "colab": {}
      },
      "source": [
        "#Read CSV file\n",
        "train_xact = pd.read_csv('drive/My Drive/ieee-cis-fraud-detection/train_transaction.csv')\n",
        "test_xact = pd.read_csv('drive/My Drive/ieee-cis-fraud-detection/test_transaction.csv')\n",
        "train_ident = pd.read_csv('drive/My Drive/ieee-cis-fraud-detection/train_identity.csv')\n",
        "test_ident = pd.read_csv('drive/My Drive/ieee-cis-fraud-detection/test_identity.csv')\n",
        "\n",
        "train= pd.merge(train_xact,train_ident,how=\"left\",on=\"TransactionID\")\n",
        "test = pd.merge(test_xact,test_ident,how=\"left\",on=\"TransactionID\")"
      ],
      "execution_count": 0,
      "outputs": []
    },
    {
      "cell_type": "code",
      "metadata": {
        "id": "Pnb9AxKuPCGg",
        "colab_type": "code",
        "colab": {
          "base_uri": "https://localhost:8080/",
          "height": 34
        },
        "outputId": "750b561e-7ff8-46a9-9d9c-9e3e23c90405"
      },
      "source": [
        "print('data loaded...')"
      ],
      "execution_count": 16,
      "outputs": [
        {
          "output_type": "stream",
          "text": [
            "data loaded...\n"
          ],
          "name": "stdout"
        }
      ]
    },
    {
      "cell_type": "code",
      "metadata": {
        "id": "BANNp5TKPD99",
        "colab_type": "code",
        "colab": {
          "base_uri": "https://localhost:8080/",
          "height": 52
        },
        "outputId": "20ffae92-e64e-4067-c769-45bad16d056e"
      },
      "source": [
        "#Credit to Kartik Athale (https://www.kaggle.com/kartikathale/fraud-detection-eda-basic-logistic-regression)\n",
        "\n",
        "\n",
        "def reduce_mem_usage(df, verbose=True):\n",
        "    numerics = ['int16', 'int32', 'int64', 'float16', 'float32', 'float64']\n",
        "    start_mem = df.memory_usage().sum() / 1024**2    \n",
        "    for col in df.columns:\n",
        "        col_type = df[col].dtypes\n",
        "        if col_type in numerics:\n",
        "            c_min = df[col].min()\n",
        "            c_max = df[col].max()\n",
        "            if str(col_type)[:3] == 'int':\n",
        "                if c_min > np.iinfo(np.int8).min and c_max < np.iinfo(np.int8).max:\n",
        "                    df[col] = df[col].astype(np.int8)\n",
        "                elif c_min > np.iinfo(np.int16).min and c_max < np.iinfo(np.int16).max:\n",
        "                    df[col] = df[col].astype(np.int16)\n",
        "                elif c_min > np.iinfo(np.int32).min and c_max < np.iinfo(np.int32).max:\n",
        "                    df[col] = df[col].astype(np.int32)\n",
        "                elif c_min > np.iinfo(np.int64).min and c_max < np.iinfo(np.int64).max:\n",
        "                    df[col] = df[col].astype(np.int64)  \n",
        "            else:\n",
        "                if c_min > np.finfo(np.float16).min and c_max < np.finfo(np.float16).max:\n",
        "                    df[col] = df[col].astype(np.float16)\n",
        "                elif c_min > np.finfo(np.float32).min and c_max < np.finfo(np.float32).max:\n",
        "                    df[col] = df[col].astype(np.float32)\n",
        "                else:\n",
        "                    df[col] = df[col].astype(np.float64)    \n",
        "    end_mem = df.memory_usage().sum() / 1024**2\n",
        "    if verbose: print('Mem. usage decreased to {:5.2f} Mb ({:.1f}% reduction)'.format(end_mem, 100 * (start_mem - end_mem) / start_mem))\n",
        "    return df\n",
        "\n",
        "train=reduce_mem_usage(train)\n",
        "test=reduce_mem_usage(test)\n",
        "\n",
        "del train_xact\n",
        "del test_xact\n",
        "del train_ident\n",
        "del test_ident\n",
        "\n",
        "\n",
        "train_bkp = train.copy()\n",
        "test_bkp = test.copy()\n",
        "\n"
      ],
      "execution_count": 17,
      "outputs": [
        {
          "output_type": "stream",
          "text": [
            "Mem. usage decreased to 650.48 Mb (66.8% reduction)\n",
            "Mem. usage decreased to 565.37 Mb (66.3% reduction)\n"
          ],
          "name": "stdout"
        }
      ]
    },
    {
      "cell_type": "code",
      "metadata": {
        "id": "rdDjPRhePimG",
        "colab_type": "code",
        "colab": {
          "base_uri": "https://localhost:8080/",
          "height": 34
        },
        "outputId": "89ec2f05-6cfd-4d0b-c321-0613eafc23c0"
      },
      "source": [
        "print('memory reduction complete')"
      ],
      "execution_count": 19,
      "outputs": [
        {
          "output_type": "stream",
          "text": [
            "memory reduction complete\n"
          ],
          "name": "stdout"
        }
      ]
    },
    {
      "cell_type": "code",
      "metadata": {
        "id": "rIkXpD_nP6k4",
        "colab_type": "code",
        "colab": {}
      },
      "source": [
        "train = train_bkp.copy()\n",
        "test = test_bkp.copy()"
      ],
      "execution_count": 0,
      "outputs": []
    },
    {
      "cell_type": "code",
      "metadata": {
        "id": "HhcZ_J0iP8Pa",
        "colab_type": "code",
        "colab": {}
      },
      "source": [
        "#split training targets and data.  remove transaction ID from training and split isFraud to represent the 'y' vector.\n",
        "\n",
        "train_y = train['isFraud']\n",
        "\n",
        "train = train.drop(['isFraud','TransactionID'], axis=1)\n",
        "test = test.drop(['TransactionID'], axis = 1)"
      ],
      "execution_count": 0,
      "outputs": []
    },
    {
      "cell_type": "code",
      "metadata": {
        "id": "29ZDzJoeP963",
        "colab_type": "code",
        "colab": {}
      },
      "source": [
        "#preprocessing (docs allegedly describe one-hot encoding: training and test data field which are non-numeric and encoding a number to show if being used).\n",
        "\n",
        "for f in train.columns:\n",
        "    if train[f].dtype=='object' or test[f].dtype=='object': \n",
        "        lbl = LabelEncoder()\n",
        "        lbl.fit(list(train[f].values) + list(test[f].values))\n",
        "        train[f] = lbl.transform(list(train[f].values))\n",
        "        test[f] = lbl.transform(list(test[f].values))\n",
        "\n"
      ],
      "execution_count": 0,
      "outputs": []
    },
    {
      "cell_type": "code",
      "metadata": {
        "id": "OnRl2Sw38eQG",
        "colab_type": "code",
        "colab": {}
      },
      "source": [
        "print('preprocessing complete')"
      ],
      "execution_count": 0,
      "outputs": []
    },
    {
      "cell_type": "code",
      "metadata": {
        "id": "xE42vZ0bQA4n",
        "colab_type": "code",
        "colab": {}
      },
      "source": [
        "train_bkp2 = train.copy()\n",
        "test_bkp2 = test.copy()"
      ],
      "execution_count": 0,
      "outputs": []
    },
    {
      "cell_type": "code",
      "metadata": {
        "id": "p1sQnu1JQB_7",
        "colab_type": "code",
        "colab": {
          "base_uri": "https://localhost:8080/",
          "height": 364
        },
        "outputId": "12403ee1-0e24-4cf3-bfea-facc9f6cac7a"
      },
      "source": [
        "### remove crap columns.  Fill NaNs and infs  \n",
        "#more credit to Kartik\n",
        "\n",
        "null_percent = train.isnull().sum()/train.shape[0]*100\n",
        "cols_to_drop = np.array(null_percent[null_percent > 50].index)\n",
        "\n",
        "def trimandfillnanandinfs(df, cols_to_drop):\n",
        "    df = df.drop(cols_to_drop, axis=1)\n",
        "    df = df.fillna(-999)\n",
        "    df = df.replace([np.inf, -np.inf], -999)\n",
        "    return df\n",
        "\n",
        "train = trimandfillnanandinfs(train, cols_to_drop)\n",
        "test = trimandfillnanandinfs(test, cols_to_drop)\n",
        "print(cols_to_drop)"
      ],
      "execution_count": 24,
      "outputs": [
        {
          "output_type": "stream",
          "text": [
            "['dist1' 'dist2' 'D5' 'D6' 'D7' 'D8' 'D9' 'D12' 'D13' 'D14' 'V138' 'V139'\n",
            " 'V140' 'V141' 'V142' 'V143' 'V144' 'V145' 'V146' 'V147' 'V148' 'V149'\n",
            " 'V150' 'V151' 'V152' 'V153' 'V154' 'V155' 'V156' 'V157' 'V158' 'V159'\n",
            " 'V160' 'V161' 'V162' 'V163' 'V164' 'V165' 'V166' 'V167' 'V168' 'V169'\n",
            " 'V170' 'V171' 'V172' 'V173' 'V174' 'V175' 'V176' 'V177' 'V178' 'V179'\n",
            " 'V180' 'V181' 'V182' 'V183' 'V184' 'V185' 'V186' 'V187' 'V188' 'V189'\n",
            " 'V190' 'V191' 'V192' 'V193' 'V194' 'V195' 'V196' 'V197' 'V198' 'V199'\n",
            " 'V200' 'V201' 'V202' 'V203' 'V204' 'V205' 'V206' 'V207' 'V208' 'V209'\n",
            " 'V210' 'V211' 'V212' 'V213' 'V214' 'V215' 'V216' 'V217' 'V218' 'V219'\n",
            " 'V220' 'V221' 'V222' 'V223' 'V224' 'V225' 'V226' 'V227' 'V228' 'V229'\n",
            " 'V230' 'V231' 'V232' 'V233' 'V234' 'V235' 'V236' 'V237' 'V238' 'V239'\n",
            " 'V240' 'V241' 'V242' 'V243' 'V244' 'V245' 'V246' 'V247' 'V248' 'V249'\n",
            " 'V250' 'V251' 'V252' 'V253' 'V254' 'V255' 'V256' 'V257' 'V258' 'V259'\n",
            " 'V260' 'V261' 'V262' 'V263' 'V264' 'V265' 'V266' 'V267' 'V268' 'V269'\n",
            " 'V270' 'V271' 'V272' 'V273' 'V274' 'V275' 'V276' 'V277' 'V278' 'V322'\n",
            " 'V323' 'V324' 'V325' 'V326' 'V327' 'V328' 'V329' 'V330' 'V331' 'V332'\n",
            " 'V333' 'V334' 'V335' 'V336' 'V337' 'V338' 'V339' 'id_01' 'id_02' 'id_03'\n",
            " 'id_04' 'id_05' 'id_06' 'id_07' 'id_08' 'id_09' 'id_10' 'id_11' 'id_13'\n",
            " 'id_14' 'id_17' 'id_18' 'id_19' 'id_20' 'id_21' 'id_22' 'id_24' 'id_25'\n",
            " 'id_26' 'id_32']\n"
          ],
          "name": "stdout"
        }
      ]
    },
    {
      "cell_type": "code",
      "metadata": {
        "id": "CHg0SkawQLAs",
        "colab_type": "code",
        "colab": {}
      },
      "source": [
        "#unsure the benefit of scaling int values.  it may improve things, but I'm omitting them from this method\n",
        "\n",
        "#https://www.data-blogger.com/2017/06/15/fraud-detection-a-simple-machine-learning-approach/\n",
        "\n",
        "#wolud love to normalize data, but keep getting \"NaNs\" for means\n",
        "\n",
        "# def normalize(df):\n",
        "    \n",
        "    \n",
        "#     floats = ['float16', 'float32', 'float64']\n",
        "#     for col in df.columns:\n",
        "#         col_type = df[col].dtypes\n",
        "#         if col_type in floats:\n",
        "#             print(col, df[col].mean(), df[col].std())\n",
        "# #             df[col] -= df[col].mean()\n",
        "# #             df[col] /= df[col].std()\n",
        "\n",
        "#     return df\n",
        "\n",
        "# train = normalize(train)\n",
        "# print('_____')\n",
        "# test = normalize(test)\n"
      ],
      "execution_count": 0,
      "outputs": []
    },
    {
      "cell_type": "code",
      "metadata": {
        "id": "NbEM9easQMfo",
        "colab_type": "code",
        "colab": {}
      },
      "source": [
        "train_X = train.copy()\n",
        "test_X = test.copy()\n",
        "test_y = np.ones(test_X.shape[0])"
      ],
      "execution_count": 0,
      "outputs": []
    },
    {
      "cell_type": "code",
      "metadata": {
        "id": "ieD9t98uQNPR",
        "colab_type": "code",
        "colab": {
          "base_uri": "https://localhost:8080/",
          "height": 121
        },
        "outputId": "0e9e1d38-854d-4906-a5b2-a1a03a6ca968"
      },
      "source": [
        "print(train_y.head())"
      ],
      "execution_count": 26,
      "outputs": [
        {
          "output_type": "stream",
          "text": [
            "0    0\n",
            "1    0\n",
            "2    0\n",
            "3    0\n",
            "4    0\n",
            "Name: isFraud, dtype: int8\n"
          ],
          "name": "stdout"
        }
      ]
    },
    {
      "cell_type": "code",
      "metadata": {
        "id": "k_sY4fIkQPlK",
        "colab_type": "code",
        "colab": {}
      },
      "source": [
        "sns.set(style=\"darkgrid\")\n",
        "train_viz= train.copy()\n",
        "fraudarr = np.asarray(train_y)\n",
        "train_viz['isFraud'] = fraudarr"
      ],
      "execution_count": 0,
      "outputs": []
    },
    {
      "cell_type": "code",
      "metadata": {
        "id": "u41tKtTzQRXN",
        "colab_type": "code",
        "colab": {
          "base_uri": "https://localhost:8080/",
          "height": 489
        },
        "outputId": "d882af67-a065-484d-d6a2-e817dd58233c"
      },
      "source": [
        "t0 = datetime.now()\n",
        "#taking log because of large range of data values.\n",
        "train_viz['log TransactionAmt'] = np.log(train_viz['TransactionAmt'])\n",
        "\n",
        "sns.set(style=\"darkgrid\", color_codes=True)\n",
        "j = sns.jointplot(data=train_viz, x='log TransactionAmt', y='isFraud', color='g', kind='reg')\n",
        "j.annotate(stats.pearsonr)\n",
        "plt.show()\n",
        "\n",
        "print('time to plot:  {}'.format(datetime.now() - t0))"
      ],
      "execution_count": 28,
      "outputs": [
        {
          "output_type": "stream",
          "text": [
            "/usr/local/lib/python3.6/dist-packages/seaborn/axisgrid.py:1847: UserWarning: JointGrid annotation is deprecated and will be removed in a future release.\n",
            "  warnings.warn(UserWarning(msg))\n"
          ],
          "name": "stderr"
        },
        {
          "output_type": "display_data",
          "data": {
            "image/png": "[encoded data removed]",
            "text/plain": [
              "<Figure size 432x432 with 3 Axes>"
            ]
          },
          "metadata": {
            "tags": []
          }
        },
        {
          "output_type": "stream",
          "text": [
            "time to plot:  0:01:34.100092\n"
          ],
          "name": "stdout"
        }
      ]
    },
    {
      "cell_type": "code",
      "metadata": {
        "id": "vYBXiyqdQTJE",
        "colab_type": "code",
        "colab": {}
      },
      "source": [
        "#Visually and statistically, there appears to be no correlation between Transaction amount and fraudulent transactions."
      ],
      "execution_count": 0,
      "outputs": []
    },
    {
      "cell_type": "code",
      "metadata": {
        "id": "5OLMFclvQU2v",
        "colab_type": "code",
        "colab": {
          "base_uri": "https://localhost:8080/",
          "height": 1000
        },
        "outputId": "8dd6e506-9280-4e69-d270-a96679bc762d"
      },
      "source": [
        "mses = []\n",
        "models = []\n",
        "\n",
        "for tol_mag in range(3,11):\n",
        "    print(\"new model\")\n",
        "    t0 = datetime.now()\n",
        "    model = LogisticRegression(tol=10**-tol_mag)\n",
        "    print(\"time to instantiate: \", datetime.now()-t0)\n",
        "    t1 = datetime.now()\n",
        "    model.fit(train_X, train_y)\n",
        "    t2 = datetime.now()\n",
        "    print(\"time to fit: \", t2-t1)\n",
        "    pred = model.predict(test_X)\n",
        "    print(\"time to predict: \", datetime.now()-t2)\n",
        "    mse = mean_squared_error(test_y, pred)\n",
        "    print(tol_mag, mse)\n",
        "    mses.append(mse)\n",
        "    models.append(deepcopy(model))"
      ],
      "execution_count": 29,
      "outputs": [
        {
          "output_type": "stream",
          "text": [
            "new model\n",
            "time to instantiate:  0:00:00.000064\n"
          ],
          "name": "stdout"
        },
        {
          "output_type": "stream",
          "text": [
            "/usr/local/lib/python3.6/dist-packages/sklearn/linear_model/logistic.py:432: FutureWarning: Default solver will be changed to 'lbfgs' in 0.22. Specify a solver to silence this warning.\n",
            "  FutureWarning)\n"
          ],
          "name": "stderr"
        },
        {
          "output_type": "stream",
          "text": [
            "time to fit:  0:00:20.764977\n",
            "time to predict:  0:00:01.023014\n",
            "3 0.9999625018009004\n",
            "new model\n",
            "time to instantiate:  0:00:00.000038\n"
          ],
          "name": "stdout"
        },
        {
          "output_type": "stream",
          "text": [
            "/usr/local/lib/python3.6/dist-packages/sklearn/linear_model/logistic.py:432: FutureWarning: Default solver will be changed to 'lbfgs' in 0.22. Specify a solver to silence this warning.\n",
            "  FutureWarning)\n"
          ],
          "name": "stderr"
        },
        {
          "output_type": "stream",
          "text": [
            "time to fit:  0:00:53.207040\n",
            "time to predict:  0:00:00.837399\n",
            "4 0.999780931573681\n",
            "new model\n",
            "time to instantiate:  0:00:00.000037\n"
          ],
          "name": "stdout"
        },
        {
          "output_type": "stream",
          "text": [
            "/usr/local/lib/python3.6/dist-packages/sklearn/linear_model/logistic.py:432: FutureWarning: Default solver will be changed to 'lbfgs' in 0.22. Specify a solver to silence this warning.\n",
            "  FutureWarning)\n"
          ],
          "name": "stderr"
        },
        {
          "output_type": "stream",
          "text": [
            "time to fit:  0:02:44.649974\n",
            "time to predict:  0:00:00.802254\n",
            "5 0.9983560000078944\n",
            "new model\n",
            "time to instantiate:  0:00:00.000042\n"
          ],
          "name": "stdout"
        },
        {
          "output_type": "stream",
          "text": [
            "/usr/local/lib/python3.6/dist-packages/sklearn/linear_model/logistic.py:432: FutureWarning: Default solver will be changed to 'lbfgs' in 0.22. Specify a solver to silence this warning.\n",
            "  FutureWarning)\n",
            "/usr/local/lib/python3.6/dist-packages/sklearn/svm/base.py:929: ConvergenceWarning: Liblinear failed to converge, increase the number of iterations.\n",
            "  \"the number of iterations.\", ConvergenceWarning)\n"
          ],
          "name": "stderr"
        },
        {
          "output_type": "stream",
          "text": [
            "time to fit:  0:03:00.589531\n",
            "time to predict:  0:00:00.859720\n",
            "6 0.9982395582317428\n",
            "new model\n",
            "time to instantiate:  0:00:00.000051\n"
          ],
          "name": "stdout"
        },
        {
          "output_type": "stream",
          "text": [
            "/usr/local/lib/python3.6/dist-packages/sklearn/linear_model/logistic.py:432: FutureWarning: Default solver will be changed to 'lbfgs' in 0.22. Specify a solver to silence this warning.\n",
            "  FutureWarning)\n",
            "/usr/local/lib/python3.6/dist-packages/sklearn/svm/base.py:929: ConvergenceWarning: Liblinear failed to converge, increase the number of iterations.\n",
            "  \"the number of iterations.\", ConvergenceWarning)\n"
          ],
          "name": "stderr"
        },
        {
          "output_type": "stream",
          "text": [
            "time to fit:  0:03:03.036313\n",
            "time to predict:  0:00:01.002326\n",
            "7 0.9982395582317428\n",
            "new model\n",
            "time to instantiate:  0:00:00.000036\n"
          ],
          "name": "stdout"
        },
        {
          "output_type": "stream",
          "text": [
            "/usr/local/lib/python3.6/dist-packages/sklearn/linear_model/logistic.py:432: FutureWarning: Default solver will be changed to 'lbfgs' in 0.22. Specify a solver to silence this warning.\n",
            "  FutureWarning)\n",
            "/usr/local/lib/python3.6/dist-packages/sklearn/svm/base.py:929: ConvergenceWarning: Liblinear failed to converge, increase the number of iterations.\n",
            "  \"the number of iterations.\", ConvergenceWarning)\n"
          ],
          "name": "stderr"
        },
        {
          "output_type": "stream",
          "text": [
            "time to fit:  0:03:00.970470\n",
            "time to predict:  0:00:00.991269\n",
            "8 0.9982395582317428\n",
            "new model\n",
            "time to instantiate:  0:00:00.000042\n"
          ],
          "name": "stdout"
        },
        {
          "output_type": "stream",
          "text": [
            "/usr/local/lib/python3.6/dist-packages/sklearn/linear_model/logistic.py:432: FutureWarning: Default solver will be changed to 'lbfgs' in 0.22. Specify a solver to silence this warning.\n",
            "  FutureWarning)\n",
            "/usr/local/lib/python3.6/dist-packages/sklearn/svm/base.py:929: ConvergenceWarning: Liblinear failed to converge, increase the number of iterations.\n",
            "  \"the number of iterations.\", ConvergenceWarning)\n"
          ],
          "name": "stderr"
        },
        {
          "output_type": "stream",
          "text": [
            "time to fit:  0:03:00.561546\n",
            "time to predict:  0:00:00.803193\n",
            "9 0.9982395582317428\n",
            "new model\n",
            "time to instantiate:  0:00:00.000039\n"
          ],
          "name": "stdout"
        },
        {
          "output_type": "stream",
          "text": [
            "/usr/local/lib/python3.6/dist-packages/sklearn/linear_model/logistic.py:432: FutureWarning: Default solver will be changed to 'lbfgs' in 0.22. Specify a solver to silence this warning.\n",
            "  FutureWarning)\n",
            "/usr/local/lib/python3.6/dist-packages/sklearn/svm/base.py:929: ConvergenceWarning: Liblinear failed to converge, increase the number of iterations.\n",
            "  \"the number of iterations.\", ConvergenceWarning)\n"
          ],
          "name": "stderr"
        },
        {
          "output_type": "stream",
          "text": [
            "time to fit:  0:03:00.670922\n",
            "time to predict:  0:00:00.822322\n",
            "10 0.9982395582317428\n"
          ],
          "name": "stdout"
        }
      ]
    },
    {
      "cell_type": "code",
      "metadata": {
        "id": "YisWfCDzQXW6",
        "colab_type": "code",
        "colab": {}
      },
      "source": [
        "minmseidx = 0\n",
        "for idx in range(1, len(mses)):\n",
        "    if mses[idx] < mses[minmseidx]:\n",
        "        minmseidx = idx\n",
        "bestmodel = models[minmseidx]"
      ],
      "execution_count": 0,
      "outputs": []
    },
    {
      "cell_type": "code",
      "metadata": {
        "id": "3wxpeb6fQYiI",
        "colab_type": "code",
        "colab": {
          "base_uri": "https://localhost:8080/",
          "height": 34
        },
        "outputId": "20630f1d-6c38-4a39-985a-3055d3e12f01"
      },
      "source": [
        "print(\"best fit based on control of error tolerance is to employ tol = 10**-{}.\".format(minmseidx+3))"
      ],
      "execution_count": 31,
      "outputs": [
        {
          "output_type": "stream",
          "text": [
            "best fit based on control of error tolerance is to employ tol = 10**-6.\n"
          ],
          "name": "stdout"
        }
      ]
    }
  ]
}